﻿{
  "metadata": {
    "name": "Call_Consolidation",
    "kernelspec": {
      "language": "scala",
      "name": "spark2-scala"
    },
    "language_info": {
      "codemirror_mode": "text/x-scala",
      "file_extension": ".scala",
      "mimetype": "text/x-scala",
      "name": "scala",
      "pygments_lexer": "scala"
    }
  },
  "nbformat": 4,
  "nbformat_minor": 2,
  "cells": [
    {
      "cell_type": "raw",
      "metadata": {
        "format": "text/plain"
      },
      "source": "%pyspark\n"
    },
    {
      "cell_type": "code",
      "execution_count": 1,
      "metadata": {
        "autoscroll": "auto"
      },
      "outputs": [],
      "source": "%pyspark\nfrom pyspark.sql import SparkSession\nfrom pyspark.sql.functions import col"
    },
    {
      "cell_type": "code",
      "execution_count": 2,
      "metadata": {
        "autoscroll": "auto"
      },
      "outputs": [],
      "source": "%pyspark\nsparkSession \u003d (SparkSession\n .builder\n .appName(\u0027etl-s3-hive-emr_call-consolidation\u0027)\n .enableHiveSupport()\n .getOrCreate())\n "
    },
    {
      "cell_type": "code",
      "execution_count": 3,
      "metadata": {
        "autoscroll": "auto"
      },
      "outputs": [],
      "source": "%pyspark\ndf_call_data \u003d sparkSession.sql(\u0027SELECT * FROM CALL_DATA\u0027)\ndf_rep_data \u003d sparkSession.sql(\u0027SELECT * FROM REP_DATA\u0027)"
    },
    {
      "cell_type": "code",
      "execution_count": 4,
      "metadata": {
        "autoscroll": "auto"
      },
      "outputs": [],
      "source": "%pyspark\ndf_call_data.printSchema()"
    },
    {
      "cell_type": "code",
      "execution_count": 5,
      "metadata": {
        "autoscroll": "auto"
      },
      "outputs": [],
      "source": "%pyspark\ndf_call_data_projected \u003d df_call_data.select(col(\"rep_id\"), col(\"month_id\"), col(\"call_value\")).withColumnRenamed(\"rep_id\", \"call_rep_id\")\ndf_rep_data_projected \u003d df_rep_data.select(col(\"rep_id\"), col(\"rep_name\"))\ndf_call_data_projected.printSchema()"
    },
    {
      "cell_type": "code",
      "execution_count": 6,
      "metadata": {
        "autoscroll": "auto"
      },
      "outputs": [],
      "source": "%pyspark\n\ndf_con \u003d df_call_data_projected \\\n    .join(\n        df_rep_data_projected,\n        df_call_data_projected.call_rep_id \u003d\u003d  df_rep_data_projected.rep_id,\n        \"inner\"\n    ) \\\n    .select(col(\"rep_id\"), col(\"rep_name\"), col(\"month_id\"), col(\"call_value\"))\ndf_con.printSchema()"
    },
    {
      "cell_type": "code",
      "execution_count": 7,
      "metadata": {
        "autoscroll": "auto"
      },
      "outputs": [],
      "source": "%pyspark\ndf_con.groupBy(\"rep_id\", \"rep_name\", \"month_id\").sum(\"call_value\").withColumnRenamed(\"sum(call_value)\", \"total_call_value\")"
    },
    {
      "cell_type": "code",
      "execution_count": 8,
      "metadata": {
        "autoscroll": "auto"
      },
      "outputs": [],
      "source": "%pyspark\ndf_con.write.format(\u0027csv\u0027).option(\u0027header\u0027,\u0027true\u0027).save(\u0027s3a://generated-data-admin-ssarkar/sales-rep-data/output/con_rep_call_data.csv\u0027,mode\u003d\u0027overwrite\u0027)"
    },
    {
      "cell_type": "code",
      "execution_count": 9,
      "metadata": {
        "autoscroll": "auto"
      },
      "outputs": [],
      "source": "%pyspark\ndf_con \\\n    .write \\\n    .partitionBy(\"rep_id\", \"month_id\") \\\n    .saveAsTable(\"etl_s3_hive_emr.con_call_rep_data\")"
    },
    {
      "cell_type": "raw",
      "metadata": {
        "format": "text/plain"
      },
      "source": "%pyspark\n"
    }
  ]
}